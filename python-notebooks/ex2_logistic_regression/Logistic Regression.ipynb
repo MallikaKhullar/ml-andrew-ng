{
 "cells": [
  {
   "cell_type": "code",
   "execution_count": 1,
   "metadata": {
    "collapsed": true
   },
   "outputs": [],
   "source": [
    "import numpy as np\n",
    "import pandas as pd\n",
    "import matplotlib.pyplot as plt\n",
    "import warnings; warnings.simplefilter('ignore')\n",
    "import scipy.optimize as opt"
   ]
  },
  {
   "cell_type": "code",
   "execution_count": 2,
   "metadata": {
    "collapsed": true
   },
   "outputs": [],
   "source": [
    "def read_data():\n",
    "    return pd.read_csv(\"ex2data1.txt\", header=None, names=['Exam 1', 'Exam 2', 'Admitted'])\n"
   ]
  },
  {
   "cell_type": "code",
   "execution_count": 3,
   "metadata": {},
   "outputs": [
    {
     "data": {
      "text/html": [
       "<div>\n",
       "<style>\n",
       "    .dataframe thead tr:only-child th {\n",
       "        text-align: right;\n",
       "    }\n",
       "\n",
       "    .dataframe thead th {\n",
       "        text-align: left;\n",
       "    }\n",
       "\n",
       "    .dataframe tbody tr th {\n",
       "        vertical-align: top;\n",
       "    }\n",
       "</style>\n",
       "<table border=\"1\" class=\"dataframe\">\n",
       "  <thead>\n",
       "    <tr style=\"text-align: right;\">\n",
       "      <th></th>\n",
       "      <th>Exam 1</th>\n",
       "      <th>Exam 2</th>\n",
       "      <th>Admitted</th>\n",
       "    </tr>\n",
       "  </thead>\n",
       "  <tbody>\n",
       "    <tr>\n",
       "      <th>0</th>\n",
       "      <td>34.623660</td>\n",
       "      <td>78.024693</td>\n",
       "      <td>0</td>\n",
       "    </tr>\n",
       "    <tr>\n",
       "      <th>1</th>\n",
       "      <td>30.286711</td>\n",
       "      <td>43.894998</td>\n",
       "      <td>0</td>\n",
       "    </tr>\n",
       "    <tr>\n",
       "      <th>2</th>\n",
       "      <td>35.847409</td>\n",
       "      <td>72.902198</td>\n",
       "      <td>0</td>\n",
       "    </tr>\n",
       "    <tr>\n",
       "      <th>3</th>\n",
       "      <td>60.182599</td>\n",
       "      <td>86.308552</td>\n",
       "      <td>1</td>\n",
       "    </tr>\n",
       "    <tr>\n",
       "      <th>4</th>\n",
       "      <td>79.032736</td>\n",
       "      <td>75.344376</td>\n",
       "      <td>1</td>\n",
       "    </tr>\n",
       "  </tbody>\n",
       "</table>\n",
       "</div>"
      ],
      "text/plain": [
       "      Exam 1     Exam 2  Admitted\n",
       "0  34.623660  78.024693         0\n",
       "1  30.286711  43.894998         0\n",
       "2  35.847409  72.902198         0\n",
       "3  60.182599  86.308552         1\n",
       "4  79.032736  75.344376         1"
      ]
     },
     "execution_count": 3,
     "metadata": {},
     "output_type": "execute_result"
    }
   ],
   "source": [
    "data = read_data()\n",
    "data.head()"
   ]
  },
  {
   "cell_type": "code",
   "execution_count": 4,
   "metadata": {},
   "outputs": [
    {
     "data": {
      "image/png": "[encoded data removed]",
      "text/plain": [
       "<matplotlib.figure.Figure at 0x1172e9910>"
      ]
     },
     "metadata": {},
     "output_type": "display_data"
    }
   ],
   "source": [
    "admits = data[data['Admitted'].isin([1])]\n",
    "rejects = data[data['Admitted'].isin([0])]\n",
    "\n",
    "plt.plot(admits['Exam 1'], admits['Exam 2'], 'b.', label=\"Admit\")\n",
    "plt.plot(rejects['Exam 1'], rejects['Exam 2'], 'rx', label=\"Reject\")\n",
    "plt.xlabel(\"Exam 1\")\n",
    "plt.ylabel(\"Exam 2\")\n",
    "plt.legend()\n",
    "plt.show()\n"
   ]
  },
  {
   "cell_type": "markdown",
   "metadata": {},
   "source": [
    "## Define & plot the sigmoid func"
   ]
  },
  {
   "cell_type": "code",
   "execution_count": 5,
   "metadata": {
    "collapsed": true
   },
   "outputs": [],
   "source": [
    "def sigmoid(x):\n",
    "    return 1 / (1 + np.exp(-x))"
   ]
  },
  {
   "cell_type": "code",
   "execution_count": 6,
   "metadata": {},
   "outputs": [
    {
     "data": {
      "image/png": "[encoded data removed]",
      "text/plain": [
       "<matplotlib.figure.Figure at 0x1172e9f90>"
      ]
     },
     "metadata": {},
     "output_type": "display_data"
    }
   ],
   "source": [
    "plt.plot(np.arange(-20, 20), sigmoid(np.arange(-20, 20)), 'r')\n",
    "plt.show()"
   ]
  },
  {
   "cell_type": "markdown",
   "metadata": {},
   "source": [
    "## Define the cost func"
   ]
  },
  {
   "cell_type": "code",
   "execution_count": 7,
   "metadata": {
    "collapsed": true
   },
   "outputs": [],
   "source": [
    "def htheta(x, theta):\n",
    "    return sigmoid(x * theta.T)\n",
    "\n",
    "def get_cost(theta, X, y):\n",
    "    theta = np.matrix(theta)\n",
    "    m = -len(y)\n",
    "    cost_sum = np.sum(np.multiply(y, np.log(htheta(X, theta))) + np.multiply((1 - y), np.log(1 - htheta(X, theta))))\n",
    "    return cost_sum/m\n",
    "\n"
   ]
  },
  {
   "cell_type": "markdown",
   "metadata": {},
   "source": [
    "## Parse data"
   ]
  },
  {
   "cell_type": "code",
   "execution_count": 8,
   "metadata": {
    "collapsed": true
   },
   "outputs": [],
   "source": [
    "data = read_data()\n",
    "data.insert(0, 'Ones', 1)\n",
    "\n",
    "num_cols = data.shape[1]\n",
    "X = data.iloc[:,0:num_cols-1]\n",
    "y = data.iloc[:,num_cols-1:num_cols]\n",
    "\n",
    "X = np.matrix(np.array(X.values))\n",
    "y = np.matrix(np.array(y.values))\n",
    "theta = np.zeros(3)\n",
    "\n"
   ]
  },
  {
   "cell_type": "code",
   "execution_count": 9,
   "metadata": {},
   "outputs": [
    {
     "name": "stdout",
     "output_type": "stream",
     "text": [
      "0.69314718056\n"
     ]
    }
   ],
   "source": [
    "print get_cost(theta,X,y)"
   ]
  },
  {
   "cell_type": "markdown",
   "metadata": {},
   "source": [
    "## Try cost for another theta"
   ]
  },
  {
   "cell_type": "code",
   "execution_count": 10,
   "metadata": {},
   "outputs": [
    {
     "name": "stdout",
     "output_type": "stream",
     "text": [
      "0.913261687518\n"
     ]
    }
   ],
   "source": [
    "print get_cost(np.array([-1,0,0]), X,y)"
   ]
  },
  {
   "cell_type": "markdown",
   "metadata": {},
   "source": [
    "## Formula for gradient (partial derivative)\n",
    "$$ \\frac{\\delta J(\\theta)}{\\delta\\theta_{j}} = \\frac{1}{m}\\sum_{i=1}^{m} ( h_\\theta (x^{(i)})-y^{(i)})x^{(i)}_{j} $$"
   ]
  },
  {
   "cell_type": "code",
   "execution_count": 11,
   "metadata": {
    "collapsed": true
   },
   "outputs": [],
   "source": [
    "def get_gradient(theta, X, y):\n",
    "    theta = np.matrix(theta)\n",
    "    gradient_vector = np.zeros(theta.shape[1])\n",
    "    m = len(y)\n",
    "    \n",
    "    for i in range(theta.shape[1]): \n",
    "        # gradient = (1/m) summation ((htheta(x) - y) * x)\n",
    "        gradient_vector[i] = np.sum(np.multiply((htheta(X, theta) - y), X[:,i]))\n",
    "    \n",
    "    return gradient_vector / m"
   ]
  },
  {
   "cell_type": "markdown",
   "metadata": {},
   "source": [
    "## Get the gradient and cost for [0 0 0] theta"
   ]
  },
  {
   "cell_type": "code",
   "execution_count": 13,
   "metadata": {},
   "outputs": [
    {
     "name": "stdout",
     "output_type": "stream",
     "text": [
      " Gradient term for default theta=> [ -0.1        -12.00921659 -11.26284221]\n",
      "Cost for default theta => 0.69314718056\n"
     ]
    }
   ],
   "source": [
    "print \"Gradient term for default theta=>\", get_gradient(theta, X, y)\n",
    "print \"Cost for default theta =>\", get_cost(theta, X, y)"
   ]
  },
  {
   "cell_type": "markdown",
   "metadata": {},
   "source": [
    "##  Using fmin_tnc"
   ]
  },
  {
   "cell_type": "code",
   "execution_count": 14,
   "metadata": {},
   "outputs": [
    {
     "data": {
      "text/plain": [
       "(array([-25.16131861,   0.20623159,   0.20147149]), 36, 0)"
      ]
     },
     "execution_count": 14,
     "metadata": {},
     "output_type": "execute_result"
    }
   ],
   "source": [
    "res_1 = opt.fmin_tnc(func=get_cost, x0=theta, fprime=get_gradient, args=(X, y))\n",
    "res_1"
   ]
  },
  {
   "cell_type": "markdown",
   "metadata": {},
   "source": [
    "##  Using minimize TNC method"
   ]
  },
  {
   "cell_type": "code",
   "execution_count": 15,
   "metadata": {},
   "outputs": [
    {
     "data": {
      "text/plain": [
       "     fun: 0.20349770158947472\n",
       "     jac: array([  8.91992787e-09,   7.94888116e-08,   4.74000881e-07])\n",
       " message: 'Local minimum reached (|pg| ~= 0)'\n",
       "    nfev: 36\n",
       "     nit: 17\n",
       "  status: 0\n",
       " success: True\n",
       "       x: array([-25.16131861,   0.20623159,   0.20147149])"
      ]
     },
     "execution_count": 15,
     "metadata": {},
     "output_type": "execute_result"
    }
   ],
   "source": [
    "res_2 = opt.minimize(get_cost, theta, args=(X,y), method='TNC', jac=get_gradient, options={'maxiter':400})\n",
    "res_2"
   ]
  },
  {
   "cell_type": "markdown",
   "metadata": {},
   "source": [
    "##  Using minimize CG / BFGS / L-BFGS-B methods \n",
    "\n",
    "Note: Find out why np.log(0) is RuntimeWarning occurs"
   ]
  },
  {
   "cell_type": "code",
   "execution_count": 16,
   "metadata": {},
   "outputs": [
    {
     "data": {
      "text/plain": [
       "      fun: 0.2034977015894439\n",
       " hess_inv: array([[  3.31474479e+03,  -2.63892205e+01,  -2.70237122e+01],\n",
       "       [ -2.63892205e+01,   2.23869433e-01,   2.02682332e-01],\n",
       "       [ -2.70237122e+01,   2.02682332e-01,   2.35335117e-01]])\n",
       "      jac: array([ -9.52476814e-09,  -9.31921315e-07,  -2.82608925e-07])\n",
       "  message: 'Optimization terminated successfully.'\n",
       "     nfev: 31\n",
       "      nit: 23\n",
       "     njev: 31\n",
       "   status: 0\n",
       "  success: True\n",
       "        x: array([-25.16133284,   0.2062317 ,   0.2014716 ])"
      ]
     },
     "execution_count": 16,
     "metadata": {},
     "output_type": "execute_result"
    }
   ],
   "source": [
    "res_3 = opt.minimize(get_cost, theta, args=(X,y), method='BFGS', jac=get_gradient, options={'maxiter':400})\n",
    "res_3"
   ]
  },
  {
   "cell_type": "markdown",
   "metadata": {},
   "source": [
    "## Find costs using the results above"
   ]
  },
  {
   "cell_type": "code",
   "execution_count": 17,
   "metadata": {},
   "outputs": [
    {
     "data": {
      "text/plain": [
       "0.20349770158947472"
      ]
     },
     "execution_count": 17,
     "metadata": {},
     "output_type": "execute_result"
    }
   ],
   "source": [
    "get_cost(res_1[0], X, y) #fmin_tnc"
   ]
  },
  {
   "cell_type": "code",
   "execution_count": 18,
   "metadata": {},
   "outputs": [
    {
     "data": {
      "text/plain": [
       "0.20349770158947472"
      ]
     },
     "execution_count": 18,
     "metadata": {},
     "output_type": "execute_result"
    }
   ],
   "source": [
    "get_cost(res_2.x, X, y) #minimize method='TNC' "
   ]
  },
  {
   "cell_type": "code",
   "execution_count": 19,
   "metadata": {},
   "outputs": [
    {
     "data": {
      "text/plain": [
       "0.20349770158944391"
      ]
     },
     "execution_count": 19,
     "metadata": {},
     "output_type": "execute_result"
    }
   ],
   "source": [
    "get_cost(res_3.x, X, y) #minimize method='BFGS'"
   ]
  },
  {
   "cell_type": "markdown",
   "metadata": {},
   "source": [
    "## Write the predict function"
   ]
  },
  {
   "cell_type": "code",
   "execution_count": 25,
   "metadata": {
    "collapsed": true
   },
   "outputs": [],
   "source": [
    "def predict(theta, X):\n",
    "    probability = htheta(X, theta)\n",
    "    return [1 if x >= 0.5 else 0 for x in probability]\n",
    "\n",
    "def admit_or_reject(htheta):\n",
    "    print \"Probability of admit: \", round(sigmoid(htheta), 5), \"\\t\\tPass: \", sigmoid(htheta) >= 0.5"
   ]
  },
  {
   "cell_type": "markdown",
   "metadata": {},
   "source": [
    "## Try with the following students"
   ]
  },
  {
   "cell_type": "code",
   "execution_count": 31,
   "metadata": {},
   "outputs": [
    {
     "name": "stdout",
     "output_type": "stream",
     "text": [
      "Probability of admit:  0.99942 \t\tPass:  True\n",
      "Probability of admit:  0.81847 \t\tPass:  True\n",
      "Probability of admit:  0.99999 \t\tPass:  True\n",
      "Probability of admit:  1.0 \t\tPass:  True\n",
      "Probability of admit:  0.0 \t\tPass:  False\n",
      "Probability of admit:  0.00015 \t\tPass:  False\n",
      "Probability of admit:  0.13878 \t\tPass:  False\n",
      "Probability of admit:  0.29121 \t\tPass:  False\n",
      "Probability of admit:  0.76365 \t\tPass:  True\n"
     ]
    }
   ],
   "source": [
    "admit_or_reject(np.sum(np.multiply(np.array([1, 80, 80]), res_2.x.T)))\n",
    "admit_or_reject(np.sum(np.multiply(np.array([1, 100, 30]), res_2.x.T)))\n",
    "admit_or_reject(np.sum(np.multiply(np.array([1, 100, 80]), res_2.x.T)))\n",
    "admit_or_reject(np.sum(np.multiply(np.array([1, 100, 100]), res_2.x.T)))\n",
    "admit_or_reject(np.sum(np.multiply(np.array([1, 20, 30]), res_2.x.T)))\n",
    "admit_or_reject(np.sum(np.multiply(np.array([1, 50, 30]), res_2.x.T)))\n",
    "admit_or_reject(np.sum(np.multiply(np.array([1, 35, 80]), res_2.x.T)))\n",
    "admit_or_reject(np.sum(np.multiply(np.array([1, 20, 100]), res_2.x.T)))\n",
    "admit_or_reject(np.sum(np.multiply(np.array([1, 30, 100]), res_2.x.T)))\n"
   ]
  },
  {
   "cell_type": "markdown",
   "metadata": {},
   "source": [
    "## Calculate the accuracy of our logistic regression"
   ]
  },
  {
   "cell_type": "code",
   "execution_count": 32,
   "metadata": {},
   "outputs": [
    {
     "name": "stdout",
     "output_type": "stream",
     "text": [
      "Accuracy of prediction based on actual data = 89%\n"
     ]
    }
   ],
   "source": [
    "predictions = predict(np.matrix(res_1[0]),X)\n",
    "correct = []\n",
    "for data in zip(predictions,y):\n",
    "    correct.append(data[0] == data[1])\n",
    "print 'Accuracy of prediction based on actual data = {0}%'.format((sum(map(int, correct)) % len(correct)))"
   ]
  },
  {
   "cell_type": "markdown",
   "metadata": {},
   "source": [
    "## Plot the decision boundary"
   ]
  },
  {
   "cell_type": "code",
   "execution_count": 33,
   "metadata": {},
   "outputs": [
    {
     "data": {
      "image/png": "[encoded data removed]",
      "text/plain": [
       "<matplotlib.figure.Figure at 0x1172e9e10>"
      ]
     },
     "metadata": {},
     "output_type": "display_data"
    }
   ],
   "source": [
    "plt.plot(admits['Exam 1'], admits['Exam 2'], 'b.', label=\"Admit\")\n",
    "plt.plot(rejects['Exam 1'], rejects['Exam 2'], 'rx', label=\"Reject\")\n",
    "plt.xlabel(\"Exam 1\")\n",
    "plt.ylabel(\"Exam 2\")\n",
    "plt.legend()\n",
    "\n",
    "\n",
    "x1, x2 = np.meshgrid(np.linspace(X[:,1].min(), X[:,1].max()), np.linspace(X[:,2].min(), X[:,2].max()))\n",
    "h = sigmoid(np.c_[np.ones((x1.ravel().shape[0],1)), x1.ravel(), x2.ravel()].dot(res_2.x)).reshape(x1.shape)\n",
    "plt.contour(x1, x2, h, [0.5], linewidths=2)\n",
    "plt.show()"
   ]
  },
  {
   "cell_type": "code",
   "execution_count": null,
   "metadata": {
    "collapsed": true
   },
   "outputs": [],
   "source": []
  }
 ],
 "metadata": {
  "kernelspec": {
   "display_name": "Python 2",
   "language": "python",
   "name": "python2"
  },
  "language_info": {
   "codemirror_mode": {
    "name": "ipython",
    "version": 2
   },
   "file_extension": ".py",
   "mimetype": "text/x-python",
   "name": "python",
   "nbconvert_exporter": "python",
   "pygments_lexer": "ipython2",
   "version": "2.7.13"
  }
 },
 "nbformat": 4,
 "nbformat_minor": 2
}
