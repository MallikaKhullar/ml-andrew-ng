{
 "cells": [
  {
   "cell_type": "markdown",
   "metadata": {},
   "source": [
    "## This time, using pandas"
   ]
  },
  {
   "cell_type": "code",
   "execution_count": 153,
   "metadata": {
    "collapsed": true
   },
   "outputs": [],
   "source": [
    "import numpy as np\n",
    "import pandas as pd\n",
    "import matplotlib.pyplot as pl"
   ]
  },
  {
   "cell_type": "markdown",
   "metadata": {},
   "source": [
    "## Compute cost function"
   ]
  },
  {
   "cell_type": "code",
   "execution_count": 154,
   "metadata": {
    "collapsed": true
   },
   "outputs": [],
   "source": [
    "def compute_cost(X, y, theta): \n",
    "    # formula is J(theta0, theta1) = (1/2m) * sum(htheta(xi) - yi)^2\n",
    "    return (np.sum(np.power( X * theta.T - y, 2))) / (2 * len(X))\n"
   ]
  },
  {
   "cell_type": "markdown",
   "metadata": {},
   "source": [
    "## Gradient Descent function"
   ]
  },
  {
   "cell_type": "code",
   "execution_count": 155,
   "metadata": {
    "collapsed": true
   },
   "outputs": [],
   "source": [
    "def gradient_descent(X, y, theta, alpha, num_iters):\n",
    "    temp_theta = np.matrix(np.zeros(theta.shape)) #stores each temp theta calculate\n",
    "    cost = np.zeros(num_iters) #store all the costs on the way\n",
    "    \n",
    "    for iter in range(num_iters):\n",
    "        sq_error = (X * theta.T) - y\n",
    "\n",
    "        for param in range(theta.shape[1]):\n",
    "            term = np.multiply(sq_error,X[:,param])\n",
    "            temp_theta[0, param] = theta[0,param] - ((alpha/len(X))*(np.sum(term)))\n",
    "            \n",
    "        #once computation is done for all thetas, update the theta matrix    \n",
    "        theta = temp_theta\n",
    "        cost[iter] = compute_cost(X,y,theta)\n",
    "\n",
    "    return theta, cost"
   ]
  },
  {
   "cell_type": "markdown",
   "metadata": {},
   "source": [
    "## Read data from file function"
   ]
  },
  {
   "cell_type": "code",
   "execution_count": 156,
   "metadata": {
    "collapsed": true
   },
   "outputs": [],
   "source": [
    "def read_data():\n",
    "    return pd.read_csv(\"ex1data2.txt\", header=None, names=['Size', '#Rooms', 'Cost'])"
   ]
  },
  {
   "cell_type": "code",
   "execution_count": 167,
   "metadata": {
    "collapsed": true
   },
   "outputs": [],
   "source": [
    "data = read_data()"
   ]
  },
  {
   "cell_type": "markdown",
   "metadata": {},
   "source": [
    "## Normalize all the data using the formula:\n",
    "data = (data - mean) / stddev"
   ]
  },
  {
   "cell_type": "code",
   "execution_count": 168,
   "metadata": {
    "collapsed": true
   },
   "outputs": [],
   "source": [
    "data = (data - data.mean()) / data.std()"
   ]
  },
  {
   "cell_type": "markdown",
   "metadata": {},
   "source": [
    "## Set alpha and iterations"
   ]
  },
  {
   "cell_type": "code",
   "execution_count": 178,
   "metadata": {
    "collapsed": true
   },
   "outputs": [],
   "source": [
    "alpha = 0.02\n",
    "iters = 500"
   ]
  },
  {
   "cell_type": "markdown",
   "metadata": {},
   "source": [
    "## Parse the data into X,y,theta"
   ]
  },
  {
   "cell_type": "code",
   "execution_count": 169,
   "metadata": {},
   "outputs": [],
   "source": [
    "## Get X, y\n",
    "\n",
    "# add ones column\n",
    "data.insert(0, 'Ones', 1)\n",
    "\n",
    "# set X (training data) and y (target variable)\n",
    "cols = data.shape[1]\n",
    "X2 = data.iloc[:,0:cols-1]\n",
    "y2 = data.iloc[:,cols-1:cols]\n",
    "\n",
    "# convert to matrices and initialize theta\n",
    "X2 = np.matrix(X2.values)\n",
    "y2 = np.matrix(y2.values)\n",
    "theta2 = np.matrix(np.array([0,0,0]))"
   ]
  },
  {
   "cell_type": "markdown",
   "metadata": {},
   "source": [
    "## Perform gradient descent"
   ]
  },
  {
   "cell_type": "code",
   "execution_count": 179,
   "metadata": {},
   "outputs": [
    {
     "name": "stdout",
     "output_type": "stream",
     "text": [
      "Best theta => [[ -1.04053881e-16   8.78561968e-01  -4.69749533e-02]] \n",
      "Lowest cost=> 0.130703056573\n"
     ]
    }
   ],
   "source": [
    "# perform linear regression on the data set\n",
    "best_theta, all_costs = gradient_descent(X2, y2, theta2, alpha, iters)\n",
    "\n",
    "# get the cost (error) of the model\n",
    "lowest_cost = compute_cost(X2, y2, best_theta)\n",
    "\n",
    "print \"Best theta =>\",best_theta, \"\\nLowest cost=>\",lowest_cost"
   ]
  },
  {
   "cell_type": "code",
   "execution_count": 180,
   "metadata": {},
   "outputs": [
    {
     "data": {
      "image/png": "[encoded data removed]",
      "text/plain": [
       "<matplotlib.figure.Figure at 0x119535250>"
      ]
     },
     "metadata": {},
     "output_type": "display_data"
    }
   ],
   "source": [
    "pl.plot(np.arange(iters), all_costs, 'r')\n",
    "pl.xlabel('Epochs')\n",
    "pl.ylabel('Cost')\n",
    "pl.xlim(0,400)\n",
    "pl.title('Error vs. Training Epoch')\n",
    "pl.show()"
   ]
  },
  {
   "cell_type": "markdown",
   "metadata": {},
   "source": [
    "## Try with different alpha"
   ]
  },
  {
   "cell_type": "code",
   "execution_count": 181,
   "metadata": {},
   "outputs": [
    {
     "data": {
      "image/png": "[encoded data removed]",
      "text/plain": [
       "<matplotlib.figure.Figure at 0x11963de90>"
      ]
     },
     "metadata": {},
     "output_type": "display_data"
    }
   ],
   "source": [
    "alpha = 0.7\n",
    "iters = 500\n",
    "# perform linear regression on the data set\n",
    "best_theta, all_costs = gradient_descent(X2, y2, theta2, alpha, iters)\n",
    "\n",
    "# get the cost (error) of the model\n",
    "lowest_cost = compute_cost(X2, y2, best_theta)\n",
    "\n",
    "pl.plot(np.arange(iters), all_costs, 'r')\n",
    "pl.xlabel('Epochs')\n",
    "pl.ylabel('Cost')\n",
    "pl.xlim(0,400)\n",
    "pl.title('Error vs. Training Epoch')\n",
    "pl.show()"
   ]
  },
  {
   "cell_type": "code",
   "execution_count": 152,
   "metadata": {
    "collapsed": true
   },
   "outputs": [],
   "source": [
    "## Notes\n",
    "\n",
    "#dataFrame.iloc[\"rows-range\", \"cols-range\"] \n",
    "#example data.iloc[:,3:4] will select all rows, 4th col"
   ]
  },
  {
   "cell_type": "code",
   "execution_count": null,
   "metadata": {
    "collapsed": true
   },
   "outputs": [],
   "source": []
  }
 ],
 "metadata": {
  "kernelspec": {
   "display_name": "Python 2",
   "language": "python",
   "name": "python2"
  },
  "language_info": {
   "codemirror_mode": {
    "name": "ipython",
    "version": 2
   },
   "file_extension": ".py",
   "mimetype": "text/x-python",
   "name": "python",
   "nbconvert_exporter": "python",
   "pygments_lexer": "ipython2",
   "version": "2.7.13"
  }
 },
 "nbformat": 4,
 "nbformat_minor": 2
}
